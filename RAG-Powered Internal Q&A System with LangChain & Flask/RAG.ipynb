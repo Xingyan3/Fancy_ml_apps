{
 "cells": [
  {
   "cell_type": "markdown",
   "id": "d19c473a",
   "metadata": {},
   "source": [
    "**Project**: Flower Secret Realm: RAG-Powered Internal Q&A System with LangChain & Flask\n",
    "\n",
    "**Project Description**: \"Floral\" is a large-scale online flower sales platform with its own business processes and standards, as well as Standard Operating Procedure (SOP) manuals for employees. Relevant information is shared during new employee onboarding training. However, this information is scattered across various internal websites and directories of the HR department, making it inconvenient to access at times. Additionally, employees may struggle to find the desired content promptly due to lengthy documents, and sometimes, company policies are updated while employees still have outdated document versions.\n",
    "\n",
    "To address these needs, we will develop a \"Doc-QA\" system based on various internal knowledge manuals.\n",
    "\n",
    "This question-and-answer system will understand employees' inquiries and provide precise answers based on the latest employee manuals.\n",
    "\n",
    "**Prepared Data:**\n",
    "\n",
    "Internal data includes various files in PDF, Word, and TXT formats.\n",
    "\n",
    "LangChain\n",
    "1. Data Sources\n",
    "2. LLM app\n",
    "3. Use-Cases"
   ]
  },
  {
   "cell_type": "code",
   "execution_count": 2,
   "id": "3d9fef30",
   "metadata": {},
   "outputs": [
    {
     "name": "stderr",
     "output_type": "stream",
     "text": [
      "/Users/xingyanzhou/Library/Python/3.9/lib/python/site-packages/urllib3/__init__.py:35: NotOpenSSLWarning: urllib3 v2 only supports OpenSSL 1.1.1+, currently the 'ssl' module is compiled with 'LibreSSL 2.8.3'. See: https://github.com/urllib3/urllib3/issues/3020\n",
      "  warnings.warn(\n"
     ]
    }
   ],
   "source": [
    "import getpass\n",
    "import os\n",
    "\n",
    "if not os.environ.get(\"OPENAI_API_KEY\"):\n",
    "  os.environ[\"OPENAI_API_KEY\"] = getpass.getpass(\"Enter API key for OpenAI: \")\n",
    "\n",
    "from langchain.chat_models import init_chat_model\n",
    "\n",
    "llm = init_chat_model(\"gpt-4o-mini\", model_provider=\"openai\")"
   ]
  },
  {
   "cell_type": "code",
   "execution_count": 3,
   "id": "50b8f585",
   "metadata": {},
   "outputs": [],
   "source": [
    "from langchain_openai import OpenAIEmbeddings\n",
    "\n",
    "embeddings = OpenAIEmbeddings(model=\"text-embedding-3-large\")"
   ]
  },
  {
   "cell_type": "code",
   "execution_count": 4,
   "id": "7e7a7508",
   "metadata": {},
   "outputs": [],
   "source": [
    "from langchain_core.vectorstores import InMemoryVectorStore\n",
    "\n",
    "vector_store = InMemoryVectorStore(embeddings)"
   ]
  },
  {
   "cell_type": "code",
   "execution_count": 5,
   "id": "cbd8f8c5",
   "metadata": {},
   "outputs": [
    {
     "name": "stderr",
     "output_type": "stream",
     "text": [
      "/Users/xingyanzhou/Library/Python/3.9/lib/python/site-packages/langsmith/client.py:253: LangSmithMissingAPIKeyWarning: API key must be provided when using hosted LangSmith API\n",
      "  warnings.warn(\n"
     ]
    }
   ],
   "source": [
    "import bs4\n",
    "from langchain import hub\n",
    "from langchain_core.documents import Document\n",
    "from langchain.document_loaders import PyPDFLoader, UnstructuredWordDocumentLoader, TextLoader\n",
    "from langchain_text_splitters import RecursiveCharacterTextSplitter\n",
    "from langgraph.graph import START, StateGraph\n",
    "from typing_extensions import List, TypedDict\n",
    "\n",
    "# Load and chunk contents from the document\n",
    "\n",
    "pdf_loader = PyPDFLoader(\"document/Flower_Employee_Handbook.pdf\")\n",
    "pdf_docs = pdf_loader.load()\n",
    "\n",
    "word_loader = UnstructuredWordDocumentLoader(\"document/Flower_Operations_Guide.docx\")\n",
    "word_docs = word_loader.load()\n",
    "\n",
    "txt_loader = TextLoader(\"document/The_Complete_Guide_to_Flower_Language.txt\", encoding=\"utf-8\")\n",
    "txt_docs = txt_loader.load()\n",
    "\n",
    "docs = pdf_docs + word_docs + txt_docs\n",
    "\n",
    "text_splitter = RecursiveCharacterTextSplitter(chunk_size=1000, chunk_overlap=200)\n",
    "all_splits = text_splitter.split_documents(docs)\n",
    "\n",
    "# Index chunks\n",
    "_ = vector_store.add_documents(documents=all_splits)\n",
    "\n",
    "# Define prompt for question-answering\n",
    "prompt = hub.pull(\"rlm/rag-prompt\")"
   ]
  },
  {
   "cell_type": "code",
   "execution_count": 6,
   "id": "2ca17714",
   "metadata": {},
   "outputs": [],
   "source": [
    "# Define state for application\n",
    "class State(TypedDict):\n",
    "    question: str\n",
    "    context: List[Document]\n",
    "    answer: str\n",
    "\n",
    "\n",
    "# Define application steps\n",
    "def retrieve(state: State):\n",
    "    retrieved_docs = vector_store.similarity_search(state[\"question\"])\n",
    "    return {\"context\": retrieved_docs}\n",
    "\n",
    "\n",
    "def generate(state: State):\n",
    "    docs_content = \"\\n\\n\".join(doc.page_content for doc in state[\"context\"])\n",
    "    messages = prompt.invoke({\"question\": state[\"question\"], \"context\": docs_content})\n",
    "    response = llm.invoke(messages)\n",
    "    return {\"answer\": response.content}\n",
    "\n",
    "\n",
    "# Compile application and test\n",
    "graph_builder = StateGraph(State).add_sequence([retrieve, generate])\n",
    "graph_builder.add_edge(START, \"retrieve\")\n",
    "graph = graph_builder.compile()"
   ]
  },
  {
   "cell_type": "code",
   "execution_count": 7,
   "id": "3e1385fd",
   "metadata": {},
   "outputs": [
    {
     "name": "stdout",
     "output_type": "stream",
     "text": [
      "Context: [Document(id='a7c74ee8-8d24-4c4f-9e24-ba1b2c147003', metadata={'producer': '', 'creator': 'WPS 文字', 'creationdate': '2024-02-20T10:33:29+02:33', 'author': 'doc2pdf', 'comments': '', 'company': '', 'keywords': '', 'moddate': '2024-02-20T10:33:29+02:33', 'sourcemodified': \"D:20240220103329+02'33'\", 'subject': '', 'title': '', 'trapped': '/False', 'source': 'document/Flower_Employee_Handbook.pdf', 'total_pages': 32, 'page': 22, 'page_label': '23'}, page_content=\"Fresh Flower Group\\n3. Sick Leave: Employees requiring sick leave must\\nprovide medical certificates and receipts from county-\\nlevel or higher hospitals or designated hospitals of the\\ncompany. They must inform their department leader and HR\\ndepartment orally or in writing before the start of their\\nshift. During sick leave, employees will receive 80% of\\ntheir basic salary.\\n4. Marriage Leave: Employees are entitled to 3 days of\\nmarriage leave. Conditions for late marriage (women aged\\n23, men aged 25) and first marriage allow an additional 12\\ndays, totaling 15 days. Marriage leave includes statutory\\nholidays, and employees receive their basic salary during\\nthis period.\\n5. Maternity Leave: Female employees meeting the national\\nchildbirth conditions are entitled to 90 days of maternity\\nleave. Female employees meeting late marriage conditions\\nare entitled to 120 days of maternity leave. Male\\nemployees' spouses are entitled to 7 days of paternity\"), Document(id='c55499e7-670e-4058-8894-c73261f122cb', metadata={'producer': '', 'creator': 'WPS 文字', 'creationdate': '2024-02-20T10:33:29+02:33', 'author': 'doc2pdf', 'comments': '', 'company': '', 'keywords': '', 'moddate': '2024-02-20T10:33:29+02:33', 'sourcemodified': \"D:20240220103329+02'33'\", 'subject': '', 'title': '', 'trapped': '/False', 'source': 'document/Flower_Employee_Handbook.pdf', 'total_pages': 32, 'page': 22, 'page_label': '23'}, page_content=\"leave. Female employees meeting late marriage conditions\\nare entitled to 120 days of maternity leave. Male\\nemployees' spouses are entitled to 7 days of paternity\\nleave. Maternity leave is paid based on basic salary.\\n6. Bereavement Leave: Employees are entitled to 3 days of\\nbereavement leave for the death of direct relatives\\n(grandparents, parents, children, spouses, parents-in-law).\\nDuring bereavement leave, employees receive their basic\\nsalary.\\n7. Annual Leave: Employees (with signed labor contracts) are\\nentitled to paid annual leave provided by the park.\\nEmployees who have worked in the park for 1-5 years are\\nentitled to 5 days of annual leave, 6-10 years to 7 days,\\n11-19 years to 10 days, and over 20 years to 15 days.\\n8. Work-Related Injury: Departments must inform the\\ncompany's relevant management department immediately when an\\nemployee is injured at work. The company's management\\ndepartment applies for work injury identification from the\"), Document(id='a71acf4e-560c-4a1b-8084-66400b0ace68', metadata={'producer': '', 'creator': 'WPS 文字', 'creationdate': '2024-02-20T10:33:29+02:33', 'author': 'doc2pdf', 'comments': '', 'company': '', 'keywords': '', 'moddate': '2024-02-20T10:33:29+02:33', 'sourcemodified': \"D:20240220103329+02'33'\", 'subject': '', 'title': '', 'trapped': '/False', 'source': 'document/Flower_Employee_Handbook.pdf', 'total_pages': 32, 'page': 21, 'page_label': '22'}, page_content='being registered with HR.\\nSection 2: Leave Categories\\n1. Statutory Holidays: According to national regulations,\\nemployees are entitled to 11 statutory holidays per year\\nwith full pay.\\n2. Personal Leave: Employees must handle personal matters\\nthemselves. They must fill out a leave form at the HR\\ndepartment, which must be approved by relevant leaders\\nbefore being recorded by HR. Otherwise, it will be\\nconsidered unauthorized absence. Half-day personal leave\\ncounts as half a day, while more than half a day counts\\nas a full day. The maximum personal leave per month is 10\\ndays. Any excess will result in salary deductions. The\\ntotal annual personal leave must not exceed 30 days,\\notherwise, resignation will be enforced.\\n21'), Document(id='ae2863dc-d87d-4b0a-afca-088850e9083c', metadata={'producer': '', 'creator': 'WPS 文字', 'creationdate': '2024-02-20T10:33:29+02:33', 'author': 'doc2pdf', 'comments': '', 'company': '', 'keywords': '', 'moddate': '2024-02-20T10:33:29+02:33', 'sourcemodified': \"D:20240220103329+02'33'\", 'subject': '', 'title': '', 'trapped': '/False', 'source': 'document/Flower_Employee_Handbook.pdf', 'total_pages': 32, 'page': 23, 'page_label': '24'}, page_content=\"Fresh Flower Group\\n10. Leave Approval Authority:\\n①Supervisors can approve one day of leave for\\ngrassroots employees.\\n②Department managers can approve 2 days for\\nsupervisors and 3 days for employees and report to HR for\\nfiling.\\n③Leave exceeding 3 days requires approval from the\\ndepartment manager and the general manager before HR\\nregistration.\\n④Marriage, bereavement, and maternity leave must be\\napproved by department heads and reported to HR for\\nfiling.\\n11. The following circumstances will be treated as\\nunauthorized absence (one day of unauthorized absence\\nresults in a deduction of three days' wages; two days, six\\ndays' wages; continuous unauthorized absence for three days\\nleads to immediate dismissal):\\n①Failure to request leave or leaving the work station\\nwithout permission;\\n②Being late for work by more than 30 minutes or leaving\\nthe work station without permission for more than 30\\nminutes during working hours;\\n③Refusal to follow assignments, refusal to accept\")]\n",
      "\n",
      "\n",
      "Answer: Employees at Fresh Flower Group are entitled to 3 days of marriage leave. For late marriages (women aged 23 and men aged 25) or for a first marriage, they can receive an additional 12 days, totaling 15 days. During this period, employees receive their basic salary, and the leave includes statutory holidays.\n"
     ]
    }
   ],
   "source": [
    "result = graph.invoke({\"question\": \"Tell me the Marriage Leave policy?\"})\n",
    "\n",
    "print(f'Context: {result[\"context\"]}\\n\\n')\n",
    "print(f'Answer: {result[\"answer\"]}')"
   ]
  },
  {
   "cell_type": "code",
   "execution_count": 8,
   "id": "8ea066c5",
   "metadata": {},
   "outputs": [
    {
     "name": "stdout",
     "output_type": "stream",
     "text": [
      "Context: [Document(id='1aae51b6-fda1-42c1-925a-a4c88c6f39ff', metadata={'producer': '', 'creator': 'WPS 文字', 'creationdate': '2024-02-20T10:33:29+02:33', 'author': 'doc2pdf', 'comments': '', 'company': '', 'keywords': '', 'moddate': '2024-02-20T10:33:29+02:33', 'sourcemodified': \"D:20240220103329+02'33'\", 'subject': '', 'title': '', 'trapped': '/False', 'source': 'document/Flower_Employee_Handbook.pdf', 'total_pages': 32, 'page': 24, 'page_label': '25'}, page_content='education, public criticism, probation, dismissal, etc.\\n2. Reward Criteria:\\n2.1. Those who make significant contributions to the\\ncompany\\'s operations, management, and service quality\\nimprovement are awarded 5-10 points.\\n2.2. Employees who perform significantly in management and\\nservice work, receive praise from customers and relevant\\ndepartments, are verbally praised for 5 points, and receive a\\nwritten commendation for an additional 10 points.\\n2.3. Those who provide constructive suggestions for improving\\nthe company\\'s management and service quality, which are\\nadopted with significant results and economic benefits, are\\nawarded 20-40 points.\\n2.4. Employees who achieve annual or monthly performance\\ntargets set by the company on time, contributing to the\\ncompany\\'s performance, receive 5-10 points.\\n2.5. Those who promptly identify \"hidden dangers\" and take\\ndecisive action to protect the lives and property of others\\nor prevent major accidents are awarded 20-40 points.\\n24'), Document(id='f9aebd41-d986-4dd4-acfe-bb3520c2327b', metadata={'producer': '', 'creator': 'WPS 文字', 'creationdate': '2024-02-20T10:33:29+02:33', 'author': 'doc2pdf', 'comments': '', 'company': '', 'keywords': '', 'moddate': '2024-02-20T10:33:29+02:33', 'sourcemodified': \"D:20240220103329+02'33'\", 'subject': '', 'title': '', 'trapped': '/False', 'source': 'document/Flower_Employee_Handbook.pdf', 'total_pages': 32, 'page': 25, 'page_label': '26'}, page_content='Fresh Flower Group\\n2.6. Those who voluntarily work overtime and contribute to\\nthe company receive 2-5 points.\\n2.7. Employees who actively cooperate with supervisors and\\nother departments and show outstanding performance receive 2-\\n5 points.\\n2.8. Those who excel in other areas.\\n3. Annual Employee Reward Standards:\\nThe \"Top Ten Outstanding Employees of the Year\"\\naward carries 200 points.\\n4. Penalties:To standardize employees\\' work behavior and\\ndiscipline, maintain the seriousness of company regulations,\\nensure the effectiveness and quality of company work, and\\nensure smooth company operations, employees who violate\\ncompany regulations, guidelines, or national laws and\\nregulations will be held accountable and subject to\\ncorresponding legal responsibilities.\\n4.1. Employees will incur a deduction of 2-5 points for any\\nof the following situations:\\n①Being late to meetings.\\n②Failing to wear an employee ID badge while on\\nduty or not meeting the dress code.'), Document(id='95d5018f-f75e-4c53-ae01-28adce872fec', metadata={'producer': '', 'creator': 'WPS 文字', 'creationdate': '2024-02-20T10:33:29+02:33', 'author': 'doc2pdf', 'comments': '', 'company': '', 'keywords': '', 'moddate': '2024-02-20T10:33:29+02:33', 'sourcemodified': \"D:20240220103329+02'33'\", 'subject': '', 'title': '', 'trapped': '/False', 'source': 'document/Flower_Employee_Handbook.pdf', 'total_pages': 32, 'page': 28, 'page_label': '29'}, page_content=\"or periodically by department heads and the Human\\nResources Department. Exceptionally outstanding\\nmanagerial staff require approval from the general\\nmanager.\\n5.2 Authority for Rewards and Penalties\\n1) Team leader-level managers have the authority to\\nreward or penalize with 1-5 points.\\n2) Supervisor-level managers have the authority to reward\\nor penalize with 1-20 points.\\n3) Manager-level managers have the authority to reward or\\npenalize with 1-40 points.\\n4) Deputy general manager-level managers have the\\nauthority to reward or penalize with 1-200 points.\\n5) Rewards and penalties beyond the authority of the\\ndeputy general manager require approval from the\\ncompany's general manager.\\n28\\n5.3 If the same mistake is made more than three times in a\\nmonth or accumulates to more than five times, the\\nsupervisor has the right to impose double the penalty.\"), Document(id='f2a32eb0-6de5-4d64-93d2-1407c59be5c8', metadata={'producer': '', 'creator': 'WPS 文字', 'creationdate': '2024-02-20T10:33:29+02:33', 'author': 'doc2pdf', 'comments': '', 'company': '', 'keywords': '', 'moddate': '2024-02-20T10:33:29+02:33', 'sourcemodified': \"D:20240220103329+02'33'\", 'subject': '', 'title': '', 'trapped': '/False', 'source': 'document/Flower_Employee_Handbook.pdf', 'total_pages': 32, 'page': 24, 'page_label': '25'}, page_content='Fresh Flower Group\\nChapter 5: Rewards and Punishments\\n1. Basic Principles of Rewards and Punishments:\\nEmployees\\' rewards and punishments are divided into\\nmaterial rewards and spiritual rewards, based on assessment\\nresults. Punishments follow the principle of \"primarily\\nthrough criticism and education, supplemented by fines\",\\nwhile rewards follow \"primarily through spiritual rewards,\\nsupplemented by material rewards.\"\\nMaterial rewards include: awarding bonuses (rewarded at\\na rate of 5 yuan per point), material rewards, salary\\nincreases, etc.\\nSpiritual rewards include: verbal praise, written\\ncommendation, conferring honorary titles, promotion, etc.\\nHonorary titles include: \"Annual Best Employee\", \"Annual\\nExcellent Manager\", etc.\\nAdministrative penalties include: verbal criticism and\\neducation, public criticism, probation, dismissal, etc.\\n2. Reward Criteria:\\n2.1. Those who make significant contributions to the\\ncompany\\'s operations, management, and service quality')]\n",
      "\n",
      "\n",
      "Answer: If you actively cooperate with supervisors and show outstanding performance, you can earn 2-5 points. This reward is based on your level of cooperation and performance. The exact number of points awarded may vary depending on the supervisor's discretion.\n"
     ]
    }
   ],
   "source": [
    "result = graph.invoke({\"question\": \"How many points I can get if I actively cooperate with supervisors?\"})\n",
    "\n",
    "print(f'Context: {result[\"context\"]}\\n\\n')\n",
    "print(f'Answer: {result[\"answer\"]}')"
   ]
  },
  {
   "cell_type": "code",
   "execution_count": 10,
   "id": "827e3e60",
   "metadata": {},
   "outputs": [
    {
     "name": "stdout",
     "output_type": "stream",
     "text": [
      " * Serving Flask app '__main__'\n",
      " * Debug mode: off\n"
     ]
    },
    {
     "name": "stderr",
     "output_type": "stream",
     "text": [
      "\u001b[31m\u001b[1mWARNING: This is a development server. Do not use it in a production deployment. Use a production WSGI server instead.\u001b[0m\n",
      " * Running on http://127.0.0.1:5001\n",
      "\u001b[33mPress CTRL+C to quit\u001b[0m\n",
      "127.0.0.1 - - [16/Feb/2025 21:21:46] \"GET / HTTP/1.1\" 200 -\n",
      "127.0.0.1 - - [16/Feb/2025 21:21:46] \"\u001b[33mGET /static/flower.jpg HTTP/1.1\u001b[0m\" 404 -\n",
      "127.0.0.1 - - [16/Feb/2025 21:21:46] \"\u001b[33mGET /favicon.ico HTTP/1.1\u001b[0m\" 404 -\n",
      "127.0.0.1 - - [16/Feb/2025 21:22:01] \"POST / HTTP/1.1\" 200 -\n",
      "127.0.0.1 - - [16/Feb/2025 21:22:01] \"\u001b[33mGET /static/flower.jpg HTTP/1.1\u001b[0m\" 404 -\n",
      "127.0.0.1 - - [16/Feb/2025 21:22:57] \"POST / HTTP/1.1\" 200 -\n",
      "127.0.0.1 - - [16/Feb/2025 21:22:57] \"\u001b[33mGET /static/flower.jpg HTTP/1.1\u001b[0m\" 404 -\n"
     ]
    }
   ],
   "source": [
    "from flask import Flask, render_template, request\n",
    "\n",
    "app = Flask(__name__)\n",
    "\n",
    "@app.route(\"/\", methods=[\"GET\", \"POST\"])\n",
    "def index():\n",
    "    result = None\n",
    "    if request.method == \"POST\":\n",
    "        question = request.form.get(\"question\")\n",
    "        if question:\n",
    "            output = graph.invoke({\"question\": question}) \n",
    "            result = {\"context\": output[\"context\"], \"result\": output[\"answer\"]}\n",
    "    return render_template(\"index.html\", result=result)\n",
    "\n",
    "if __name__ == \"__main__\":\n",
    "    app.run(debug=False, port=5001)"
   ]
  }
 ],
 "metadata": {
  "kernelspec": {
   "display_name": "Python 3",
   "language": "python",
   "name": "python3"
  },
  "language_info": {
   "codemirror_mode": {
    "name": "ipython",
    "version": 3
   },
   "file_extension": ".py",
   "mimetype": "text/x-python",
   "name": "python",
   "nbconvert_exporter": "python",
   "pygments_lexer": "ipython3",
   "version": "3.9.6"
  }
 },
 "nbformat": 4,
 "nbformat_minor": 5
}
